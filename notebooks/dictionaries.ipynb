{
 "cells": [
  {
   "cell_type": "code",
   "execution_count": 4,
   "metadata": {},
   "outputs": [
    {
     "name": "stdout",
     "output_type": "stream",
     "text": [
      "Inventory:\n",
      "1 rope\n",
      "6 torch\n",
      "42 gold coin\n",
      "1 dagger\n",
      "12 arrow\n",
      "total is 62\n"
     ]
    }
   ],
   "source": [
    "#inventory.py\n",
    "\n",
    "stuff = {'rope': 1, 'torch': 6, 'gold coin': 42, 'dagger': 1, 'arrow': 12}\n",
    "\n",
    "def display_inventory(inventory):\n",
    "    print(\"Inventory:\")\n",
    "    total = 0\n",
    "    for k, v in inventory.items():\n",
    "        print(\"%s %s\" % ((str(v), k)))\n",
    "        total += v\n",
    "    print(\"total is \" + str(total))\n",
    "    \n",
    "display_inventory(stuff)"
   ]
  },
  {
   "cell_type": "code",
   "execution_count": 6,
   "metadata": {},
   "outputs": [
    {
     "name": "stdout",
     "output_type": "stream",
     "text": [
      "Inventory:\n",
      "44 gold coin\n",
      "1 rope\n",
      "1 dagger\n",
      "1 ruby\n",
      "total is 47\n"
     ]
    }
   ],
   "source": [
    "def addToInventory(inventory, addedItems):\n",
    "    for item in addedItems:\n",
    "        inventory.setdefault(item, 0)\n",
    "        inventory[item] = inventory[item] + 1\n",
    "    return inventory\n",
    "\n",
    "inv = { 'gold coin': 42, 'rope': 1}\n",
    "dragonLoot = ['gold coin', 'dagger', 'gold coin', 'ruby']\n",
    "inv = addToInventory(inv, dragonLoot)\n",
    "display_inventory(inv)"
   ]
  },
  {
   "cell_type": "code",
   "execution_count": null,
   "metadata": {},
   "outputs": [
    {
     "name": "stdout",
     "output_type": "stream",
     "text": [
      "Enter a name: (blank to quit)\n",
      "Hamza\n",
      "I do not have birthday information for Hamza\n",
      "What is their birthday ?\n",
      "Nov 7\n",
      "Birthday database updated.\n",
      "Enter a name: (blank to quit)\n",
      "Hamza\n",
      "Nov 7 is birthday of Hamza\n",
      "Enter a name: (blank to quit)\n",
      "Alice\n",
      "Apr 1 is birthday of Alice\n",
      "Enter a name: (blank to quit)\n",
      "Jake\n",
      "I do not have birthday information for Jake\n",
      "What is their birthday ?\n",
      "Jan 19\n",
      "Birthday database updated.\n",
      "Enter a name: (blank to quit)\n",
      "Jake\n",
      "Jan 19 is birthday of Jake\n",
      "Enter a name: (blank to quit)\n"
     ]
    }
   ],
   "source": [
    "birthdays = {'Alice': 'Apr 1', 'Bob': 'Dec 12', 'Carol': 'Mar 4'}\n",
    "\n",
    "while True:\n",
    "    print('Enter a name: (blank to quit)')\n",
    "    name = input()\n",
    "    if name == '':\n",
    "        break\n",
    "    if name in birthdays:\n",
    "        print(birthdays[name] + ' is birthday of ' + name)\n",
    "    else:\n",
    "        print('I do not have birthday information for ' + name)\n",
    "        print('What is their birthday ?')\n",
    "        bday = input()\n",
    "        birthdays[name] = bday\n",
    "        print('Birthday database updated.')"
   ]
  },
  {
   "cell_type": "code",
   "execution_count": 2,
   "metadata": {},
   "outputs": [
    {
     "name": "stdout",
     "output_type": "stream",
     "text": [
      "I am bringing 5 cups\n"
     ]
    }
   ],
   "source": [
    "picItems = {'apples': 5, 'cups': 2}\n",
    "print('I am bringing ' + str(picItems.get('cups', 5)) + ' cups')"
   ]
  },
  {
   "cell_type": "code",
   "execution_count": 8,
   "metadata": {},
   "outputs": [
    {
     "name": "stdout",
     "output_type": "stream",
     "text": [
      "{' ': 13,\n",
      " ',': 1,\n",
      " '.': 1,\n",
      " 'A': 1,\n",
      " 'I': 1,\n",
      " 'a': 4,\n",
      " 'b': 1,\n",
      " 'c': 3,\n",
      " 'd': 3,\n",
      " 'e': 5,\n",
      " 'g': 2,\n",
      " 'h': 3,\n",
      " 'i': 6,\n",
      " 'k': 2,\n",
      " 'l': 3,\n",
      " 'n': 4,\n",
      " 'o': 2,\n",
      " 'p': 1,\n",
      " 'r': 5,\n",
      " 's': 3,\n",
      " 't': 6,\n",
      " 'w': 2,\n",
      " 'y': 1}\n"
     ]
    }
   ],
   "source": [
    "import pprint\n",
    "message = 'It was a bright cold day in April, and the clocks were striking thirteen.'\n",
    "count = {}\n",
    "\n",
    "for char in message:\n",
    "    count.setdefault(char, 0)\n",
    "    count[char] = count[char] + 1\n",
    "    \n",
    "pprint.pprint(count)"
   ]
  }
 ],
 "metadata": {
  "kernelspec": {
   "display_name": "Python 3",
   "language": "python",
   "name": "python3"
  },
  "language_info": {
   "codemirror_mode": {
    "name": "ipython",
    "version": 3
   },
   "file_extension": ".py",
   "mimetype": "text/x-python",
   "name": "python",
   "nbconvert_exporter": "python",
   "pygments_lexer": "ipython3",
   "version": "3.8.2"
  }
 },
 "nbformat": 4,
 "nbformat_minor": 2
}
